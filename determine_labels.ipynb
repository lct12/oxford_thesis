{
 "cells": [
  {
   "cell_type": "markdown",
   "metadata": {},
   "source": [
    "### Determine gentrification labels"
   ]
  },
  {
   "cell_type": "markdown",
   "metadata": {},
   "source": [
    "#### Author: Lauren Thomas\n",
    "#### Created: 05/07/2021\n",
    "#### Last updated: 05/07/2021"
   ]
  },
  {
   "cell_type": "markdown",
   "metadata": {},
   "source": [
    "###### File description: This file determines the labels for which neighborhoods are gentrifying, which are eligible but do not gentrify, and were not eligible, using the following criteria:\n",
    "\n",
    "###### Eligible to gentrify: \n",
    "###### - Housing sales prices/rent < 80% of median\n",
    "###### - AND (any 3 of the following 4)\n",
    "###### -- % low-income households > regional median\n",
    "###### -- % college-educated (of population over 25 years of age) < regional median\n",
    "###### -- % households that rent > regional median\n",
    "###### -- % non-white (including Hispanics/Latinos) > regional median\n",
    "\n",
    "###### Hot market:\n",
    "###### - Change in median real rent > regional median OR\n",
    "###### - Change in median real value for owner-occupied homes > regional median\n",
    "\n",
    "###### Gentrification:\n",
    "###### - Must begin as a vulnerable neighborhood (see above_\n",
    "###### - Must have a 'hot market' (see above)\n",
    "###### - Demographic changes between base & end years\n",
    "###### --  % change in college-educated > regional median of % change in college-educated AND\n",
    "###### -- % change in real median household income > regional median of % change"
   ]
  },
  {
   "cell_type": "code",
   "execution_count": 601,
   "metadata": {},
   "outputs": [],
   "source": [
    "import os\n",
    "import pickle\n",
    "\n",
    "import pandas as pd\n",
    "import geopandas as gp\n",
    "import matplotlib.pyplot as plt\n",
    "\n",
    "from os import sep"
   ]
  },
  {
   "cell_type": "code",
   "execution_count": 604,
   "metadata": {},
   "outputs": [],
   "source": [
    "# Working directory\n",
    "cwd = f\"C:{sep}Users{sep}ltswe{sep}Dropbox{sep}Oxford{sep}Thesis\"\n",
    "\n",
    "# Data directory\n",
    "data_dir = f'D:'"
   ]
  },
  {
   "cell_type": "code",
   "execution_count": 144,
   "metadata": {},
   "outputs": [],
   "source": [
    "# Begin by importing data from IPUMS NGHIS (from the ACS)\n",
    "# Import 2006-2010 (base year estimates) into pandas\n",
    "est_0610_raw = pd.read_csv(f\"{cwd}{sep}data{sep}2006_2010_estimates.csv\", encoding = 'latin-1')\n",
    "\n",
    "# Import 2014-2018 data estimates \n",
    "est_1418_raw = pd.read_csv(f\"{cwd}{sep}data{sep}2014_2018_estimates.csv\", encoding = 'latin-1')\n"
   ]
  },
  {
   "cell_type": "code",
   "execution_count": 457,
   "metadata": {},
   "outputs": [],
   "source": [
    "# Get rid of data outside NYC \n",
    "est_0610 = est_0610_raw[(est_0610_raw['STATE'] == 'New York') & ((est_0610_raw['COUNTY'] == 'Bronx County') | \n",
    "                                              (est_0610_raw['COUNTY'] == 'New York County') |\n",
    "                                              (est_0610_raw['COUNTY'] == 'Kings County') |\n",
    "                                              (est_0610_raw['COUNTY'] == 'Queens County') |\n",
    "                                              (est_0610_raw['COUNTY'] == 'Richmond County'))].reset_index(drop=True)\n",
    "\n",
    "est_1418 = est_1418_raw[(est_1418_raw['STATE'] == 'New York') & ((est_1418_raw['COUNTY'] == 'Bronx County') | \n",
    "                                              (est_1418_raw['COUNTY'] == 'New York County') |\n",
    "                                              (est_1418_raw['COUNTY'] == 'Kings County') |\n",
    "                                              (est_1418_raw['COUNTY'] == 'Queens County') |\n",
    "                                              (est_1418_raw['COUNTY'] == 'Richmond County'))].reset_index(drop=True)"
   ]
  },
  {
   "cell_type": "code",
   "execution_count": 458,
   "metadata": {},
   "outputs": [],
   "source": [
    "# Calculate % of people with at least a bachelor's degree (of adults over 25 years of age)\n",
    "est_0610[\"%_bachelors_0610\"] = (est_0610[\"JN9E015\"]+est_0610[\"JN9E016\"]+est_0610[\"JN9E017\"] \\\n",
    "                                 +est_0610[\"JN9E018\"] +est_0610[\"JN9E032\"]+est_0610[\"JN9E033\"]+est_0610[\"JN9E034\"] \\\n",
    "                                 + est_0610[\"JN9E035\"])/est_0610[\"JN9E001\"]\n",
    "est_1418[\"%_bachelors_1418\"] = (est_1418[\"AJYPE022\"] + est_1418[\"AJYPE023\"]+ est_1418[\"AJYPE024\"]+ est_1418[\"AJYPE025\"])/est_1418[\"AJYPE001\"]\n",
    "\n",
    "# Calc % of nonwhite (including Hispanic/Latino whites) for 06-10 \n",
    "# = (total- (not hisp/latino & white alone))/total pop\n",
    "est_0610[\"%_nonwhite_0610\"] = (est_0610[\"JMJE001\"] - est_0610[\"JMJE003\"])/est_0610[\"JMJE001\"] \n",
    "\n",
    "# Calc % that are renter households for 06-10 = # occupied by renters/total # of housing units\n",
    "est_0610['%_hhrent_0610'] = est_0610[\"JRKE003\"]/est_0610[\"JRKE001\"]\n",
    "\n",
    "# % of low-income households: % of households with income under $45k (see thesis notes for explanation of number)\n",
    "est_0610['%_li_0610'] = (est_0610['JOHE002'] + est_0610['JOHE003'] + est_0610['JOHE004'] + est_0610['JOHE005'] \\\n",
    "                       + est_0610['JOHE006'] + est_0610['JOHE007'] + est_0610['JOHE008'] + est_0610['JOHE009'])/est_0610['JOHE001'] \n",
    "\n",
    "# Rename other relevant vars in both 2006-2010 and 2014-2018\n",
    "est_0610 = est_0610.rename(columns={'JN9E001': '25plus_pop_0610','JOIE001':'med_hh_inc_0610_nom', 'JS5E001': 'med_rent_0610_nom', 'JTIE001': 'med_home_value_0610_nom'})\n",
    "est_1418 = est_1418.rename(columns={'AJYPE001': '25plus_pop_1418', 'AJZAE001': 'med_hh_income_1418', 'AJ3EE001': 'med_rent_1418', 'AJ3QE001': 'med_home_value_1418'})"
   ]
  },
  {
   "cell_type": "code",
   "execution_count": 459,
   "metadata": {},
   "outputs": [],
   "source": [
    "# Rent, home value, and median household income are both in 2010/2018 adjusted $$ -- so adjust 2010 to be in 2018 $$\n",
    "est_0610[\"med_hh_income_0610\"] = est_0610[\"med_hh_inc_0610_nom\"].apply(lambda x: 1.15*x)\n",
    "est_0610[\"med_rent_0610\"] = est_0610[\"med_rent_0610_nom\"].apply(lambda x: 1.15*x)\n",
    "est_0610[\"med_home_value_0610\"] = est_0610[\"med_home_value_0610_nom\"].apply(lambda x: 1.15*x)"
   ]
  },
  {
   "cell_type": "code",
   "execution_count": 460,
   "metadata": {},
   "outputs": [],
   "source": [
    "# Keep only vars of interest (above constructed terms plus REAL med hh income, median gross rent, median home value)\n",
    "est_0610 = est_0610[[\"GISJOIN\", \"STATE\", \"COUNTY\", '25plus_pop_0610', \"%_bachelors_0610\", '%_nonwhite_0610', '%_hhrent_0610',\n",
    "                     '%_li_0610', \"med_hh_income_0610\", \"med_rent_0610\", 'med_home_value_0610']]\n",
    "est_1418 = est_1418[[\"GISJOIN\", \"STATE\", \"COUNTY\", '25plus_pop_1418',\"%_bachelors_1418\",\n",
    "                     \"med_hh_income_1418\", \"med_rent_1418\", 'med_home_value_1418']]\n"
   ]
  },
  {
   "cell_type": "code",
   "execution_count": 481,
   "metadata": {},
   "outputs": [],
   "source": [
    "# # Merge!\n",
    "est_all = est_0610.merge(est_1418, on = [\"GISJOIN\", \"STATE\", \"COUNTY\"])   \n",
    "\n",
    "# Drop census tracts with 0 population (53) and those where both median rent and median home value in 06-10 are missing (7)\n",
    "# AND where both median rent and median home value in 14-18 are missing (3 after above deleted)\n",
    "# AND where median household income in 2014-2018 is missing (4 after above are deleted)\n",
    "est_all = est_all[(est_all['25plus_pop_1418'] != 0) & (est_all['25plus_pop_0610'] != 0) &\n",
    "                 ((est_all['med_rent_0610'].isna()==False) | (est_all['med_home_value_0610'].isna()==False)) &\n",
    "                  ((est_all['med_rent_1418'].isna()==False) | (est_all['med_home_value_1418'].isna()==False)) &\n",
    "                 (est_all['med_hh_income_1418'].isna()==False)].reset_index(drop=True)\n",
    "\n"
   ]
  },
  {
   "cell_type": "code",
   "execution_count": 486,
   "metadata": {},
   "outputs": [],
   "source": [
    "# Find medians over all census tracts of variables at base period (2006/2010) to determine which neighborhoods are \n",
    "# eligible to gentrify\n",
    "med_bach_start = est_all[\"%_bachelors_0610\"].median()\n",
    "med_nw_start = est_all['%_nonwhite_0610'].median()\n",
    "med_hhrent_start = est_all['%_hhrent_0610'].median()\n",
    "med_rent_start = est_all[\"med_rent_0610\"].median()\n",
    "med_home_value_start = est_all['med_home_value_0610'].median()\n",
    "med_li_start = est_all['%_li_0610'].median()"
   ]
  },
  {
   "cell_type": "code",
   "execution_count": 487,
   "metadata": {},
   "outputs": [],
   "source": [
    "# Determine which neighborhoods are eligible to gentrify\n",
    "# Firstly, must meet 3 of the following 4 non-housing (price/rent) criteria: % li-hh > med, % college-educated < med, % hh's rent > med, % nonwhite > med.\n",
    "# Create Series from list comprehensions that correspond to 1 if criteria of census tract is met 0 if not and None if either var is NaN\n",
    "li_0610_col = est_all.columns.get_loc('%_li_0610')\n",
    "bachelors_0610_col = est_all.columns.get_loc('%_bachelors_0610')\n",
    "hhrent_0610_col = est_all.columns.get_loc('%_hhrent_0610')\n",
    "nonwhite_0610_col = est_all.columns.get_loc('%_nonwhite_0610')\n",
    "\n",
    "# Note that est_all.shape[0] = number of tracts in est_all (all the tracts in NYC minus those with 0 pop)\n",
    "# LI\n",
    "li_0610 = pd.Series([1 if est_all.iloc[tract, li_0610_col] > med_li_start \n",
    "                else 0 if est_all.iloc[tract, li_0610_col] <= med_li_start \n",
    "                else None for tract in range(est_all.shape[0])])\n",
    "# college-educated\n",
    "bachelors_0610 = pd.Series([1 if est_all.iloc[tract, bachelors_0610_col] < med_bach_start \n",
    "                else 0 if est_all.iloc[tract, bachelors_0610_col] >= med_bach_start \n",
    "                else None for tract in range(est_all.shape[0])])\n",
    "\n",
    "# % of households that rent\n",
    "hhrent_0610 = pd.Series([1 if est_all.iloc[tract, hhrent_0610_col] > med_hhrent_start \n",
    "                else 0 if est_all.iloc[tract, hhrent_0610_col] <= med_hhrent_start \n",
    "                else None for tract in range(est_all.shape[0])])\n",
    "\n",
    "# Non-white\n",
    "nonwhite_0610 = pd.Series([1 if est_all.iloc[tract, nonwhite_0610_col] > med_nw_start \n",
    "                else 0 if est_all.iloc[tract, nonwhite_0610_col] <= med_nw_start \n",
    "                else None for tract in range(est_all.shape[0])])\n",
    "\n",
    "# Now, create series = sum of each element in the above \n",
    "nonhousing_crit_0610 = pd.Series([li_0610[tract] + bachelors_0610[tract] + hhrent_0610[tract] + nonwhite_0610[tract]\n",
    "                              for tract in range(est_all.shape[0])])\n",
    "    "
   ]
  },
  {
   "cell_type": "code",
   "execution_count": 488,
   "metadata": {},
   "outputs": [],
   "source": [
    "# Next, median rent or median home value must be < 80% of the NYC median (med_rent_start & med_home_value_start)\n",
    "# Don't have to worry about NAs cuz we got rid of all of them already :D -- so everything is either 0 or 1!\n",
    "rent_0610_col = est_all.columns.get_loc('med_rent_0610')\n",
    "hv_0610_col = est_all.columns.get_loc('med_home_value_0610')\n",
    "\n",
    "housing_crit_0610 = pd.Series([1 if est_all.iloc[tract, rent_0610_col] < 0.8*med_rent_start \n",
    "                               or est_all.iloc[tract, hv_0610_col] < 0.8*med_home_value_start\n",
    "                              else 0 for tract in range(est_all.shape[0])])\n",
    "\n",
    "# Finally, determine whether a neighbourhood is eligible to gentrify -- must have 1 on housing_crit and 3+ on nonhousing\n",
    "est_all[\"eligible_gentrify\"] = pd.Series([1 if housing_crit_0610[tract] == 1 and nonhousing_crit_0610[tract] >= 3 \n",
    "                               else 0 for tract in range(est_all.shape[0])])"
   ]
  },
  {
   "cell_type": "code",
   "execution_count": 489,
   "metadata": {},
   "outputs": [
    {
     "data": {
      "text/plain": [
       "0    1695\n",
       "1     405\n",
       "Name: eligible_gentrify, dtype: int64"
      ]
     },
     "execution_count": 489,
     "metadata": {},
     "output_type": "execute_result"
    }
   ],
   "source": [
    "est_all['eligible_gentrify'].value_counts()"
   ]
  },
  {
   "cell_type": "code",
   "execution_count": 529,
   "metadata": {},
   "outputs": [],
   "source": [
    "# Next up, determine whether a neighbourhood had a 'hot market' -- meaning % change in median real rent > nyc median change\n",
    "# or % change in median home value > nyc median change \n",
    "\n",
    "# Find % change in median real rent & median home value change\n",
    "est_all['change_rent'] = (est_all['med_rent_1418'] - est_all['med_rent_0610'])/est_all['med_rent_0610']\n",
    "est_all['change_home_value'] = (est_all['med_home_value_1418'] - est_all['med_home_value_0610'])/est_all['med_home_value_0610']\n",
    "\n",
    "# Drop census tracts where change_rent is NA & change_home_value is NA as well (1)\n",
    "est_all = est_all[(est_all['change_rent'].isna() == False) | (est_all['change_home_value'].isna() == False)]\n",
    "\n",
    "# Calculate median changes\n",
    "med_change_rent, med_change_home_value = est_all['change_rent'].median(), est_all['change_home_value'].median()\n",
    "\n",
    "# Col numbers for change rent and change home value\n",
    "change_rent_col, change_hv_col = est_all.columns.get_loc('change_rent'), est_all.columns.get_loc('change_home_value')\n",
    "\n",
    "# Determine 'hot market'\n",
    "est_all['hot_market'] = [1 if est_all.iloc[tract, change_rent_col] > med_change_rent \n",
    "                        or est_all.iloc[tract, change_hv_col] > med_change_home_value\n",
    "                        else 0 for tract in range(est_all.shape[0])]\n"
   ]
  },
  {
   "cell_type": "code",
   "execution_count": 543,
   "metadata": {},
   "outputs": [],
   "source": [
    "# Finally, determine whether a neighbourhood has been gentrified\n",
    "# Find change in % of college-educated residents & % change in real median hh income\n",
    "est_all['change_college'] = est_all['%_bachelors_1418'] - est_all['%_bachelors_0610']\n",
    "est_all['change_hh_inc'] = (est_all['med_hh_income_1418'] - est_all['med_hh_income_0610'])/est_all['med_hh_income_0610']\n",
    "\n",
    "# Medians\n",
    "med_change_college, med_change_hh_income = est_all['change_college'].median(), est_all['change_hh_inc'].median()\n",
    "\n",
    "# Col numbers for eligible to gentrify, hot market, change in college-edu residents and change in hh income\n",
    "elig_gentrify_col, hot_market_col = est_all.columns.get_loc('eligible_gentrify'), est_all.columns.get_loc('hot_market')\n",
    "change_coll_col, change_hh_inc_col = est_all.columns.get_loc('change_college'), est_all.columns.get_loc('change_hh_inc')\n",
    "\n",
    "# Neighbourhood gentrifies IF it is eligible to, it has a hot market, change_college > median and change_hh_inc > med\n",
    "est_all['gentrification'] = [1 if est_all.iloc[tract, change_coll_col] > med_change_college \n",
    "                            and est_all.iloc[tract, change_hh_inc_col] > med_change_hh_income\n",
    "                            and est_all.iloc[tract, elig_gentrify_col] == 1 \n",
    "                            and est_all.iloc[tract, hot_market_col] == 1\n",
    "                            else 0 for tract in range(est_all.shape[0])]"
   ]
  },
  {
   "cell_type": "code",
   "execution_count": 578,
   "metadata": {},
   "outputs": [
    {
     "data": {
      "text/plain": [
       "0    1568\n",
       "1     531\n",
       "dtype: int64"
      ]
     },
     "execution_count": 578,
     "metadata": {},
     "output_type": "execute_result"
    }
   ],
   "source": [
    "check = pd.Series([1 if est_all.iloc[tract, change_coll_col] > med_change_college \n",
    "                   and est_all.iloc[tract, change_hh_inc_col] > med_change_hh_income\n",
    "                   and est_all.iloc[tract, hot_market_col] == 1\n",
    "                   else 0 for tract in range(est_all.shape[0])])\n",
    "check.value_counts()"
   ]
  },
  {
   "cell_type": "code",
   "execution_count": 557,
   "metadata": {},
   "outputs": [],
   "source": [
    "# Make a more understandable fips code (11 digits instead of 13)\n",
    "def gen_fips_from_gisjoin(x):\n",
    "    ''' x = GISJOIN code '''\n",
    "    # x[4:7] is county code, x[8:14] = census tract code ('36' is always state code)\n",
    "    return \"36\" + x[4:7] + x[8:14]\n",
    "\n",
    "est_all['fips_code'] = est_all['GISJOIN'].apply(lambda x: gen_fips_from_gisjoin(x))"
   ]
  },
  {
   "cell_type": "code",
   "execution_count": 560,
   "metadata": {},
   "outputs": [],
   "source": [
    "# MAKE MAPS!\n",
    "\n",
    "# Read in NYC Census Tract files\n",
    "nycct = gp.read_file(f'{cwd}{sep}data{sep}shapefiles{sep}nyct2010.shp')\n",
    "\n",
    "# Project shapefile into lat/long\n",
    "nycct_proj = nycct.to_crs(\"epsg:4326\")\n",
    "\n",
    "# Generate full geoids (state FIPS + county FIPS + CT FIPS)\n",
    "# NY State FIPS: 36\n",
    "# County fips: 061 (Manhattan), 005 (Bronx), 081 (Queens), 085 (Staten Island), 047 (Brooklyn).\n",
    "# BoroCT2010 uses a weird county code system where 1=Manhattan,2=Bronx,3=Brooklyn,4=Queens,& 5=SI\n",
    "def gen_fips(x):\n",
    "    ''' x = BoroCT2010 code'''\n",
    "    county_code = x[0:1]\n",
    "    ct_code = x[1:7]\n",
    "    if county_code == '5': #SI\n",
    "        return '36'+'085' + ct_code\n",
    "    elif county_code == '1': #Manhattan\n",
    "        return '36'+'061' + ct_code\n",
    "    elif county_code == '4': #Queens\n",
    "        return '36'+'081' + ct_code\n",
    "    elif county_code == '3': #Brooklyn\n",
    "        return '36'+'047' + ct_code\n",
    "    else: #Bronx\n",
    "        return '36'+'005' +ct_code\n",
    "\n",
    "nycct_proj['fips_code'] = nycct_proj['BoroCT2010'].apply(lambda x: gen_fips(x))"
   ]
  },
  {
   "cell_type": "code",
   "execution_count": 566,
   "metadata": {},
   "outputs": [],
   "source": [
    "# Right merge (keeping everything from nycct_proj) and create merged geopandas data frame\n",
    "gentrify_gdf = gp.GeoDataFrame(est_all.merge(nycct_proj, on = 'fips_code', how='right'))"
   ]
  },
  {
   "cell_type": "code",
   "execution_count": 611,
   "metadata": {},
   "outputs": [],
   "source": [
    "# Generate category = 1,2,3 where 1 = not eligible to gentrify, 2 = eligible to gentrify but didn't, 3 = gentrified\n",
    "elig_gent_col, gent_col = gentrify_gdf.columns.get_loc('eligible_gentrify'), gentrify_gdf.columns.get_loc('gentrification')\n",
    "gentrify_gdf['gentrification_category'] = [1 if gentrify_gdf.iloc[tract, elig_gent_col] == 0\n",
    "                                          else 2 if gentrify_gdf.iloc[tract,gent_col] == 0\n",
    "                                          else 3 if gentrify_gdf.iloc[tract,gent_col] == 1\n",
    "                                          else None for tract in range(gentrify_gdf.shape[0])]"
   ]
  },
  {
   "cell_type": "code",
   "execution_count": 592,
   "metadata": {},
   "outputs": [
    {
     "data": {
      "image/png": "[encoded data removed]",
      "text/plain": [
       "<Figure size 432x288 with 1 Axes>"
      ]
     },
     "metadata": {
      "needs_background": "light"
     },
     "output_type": "display_data"
    }
   ],
   "source": [
    "# Now, for the fun stuff! Create map of all gentrified \n",
    "gentrify_gdf.plot(column='gentrification')\n",
    "plt.savefig(f\"{cwd}{sep}figures{sep}gentrification.jpg\")"
   ]
  },
  {
   "cell_type": "code",
   "execution_count": 568,
   "metadata": {},
   "outputs": [
    {
     "data": {
      "text/plain": [
       "0.0    2003\n",
       "1.0      96\n",
       "Name: gentrification, dtype: int64"
      ]
     },
     "execution_count": 568,
     "metadata": {},
     "output_type": "execute_result"
    }
   ],
   "source": [
    "gentrify_gdf.gentrification.value_counts()"
   ]
  },
  {
   "cell_type": "code",
   "execution_count": 619,
   "metadata": {},
   "outputs": [],
   "source": [
    "# Reduce data down to just fips code, eligible_gentrify, gentrification label & geometry then pickle data for use in other\n",
    "labels_gdf = gentrify_gdf[['fips_code', 'eligible_gentrify', 'gentrification', 'gentrification_category', 'geometry']]\n",
    "labels_pickle = open(f'{data_dir}{sep}pickle{sep}labels_gdf.pickle', 'wb')\n",
    "pickle.dump(labels_gdf, labels_pickle)"
   ]
  }
 ],
 "metadata": {
  "kernelspec": {
   "display_name": "Python 3",
   "language": "python",
   "name": "python3"
  },
  "language_info": {
   "codemirror_mode": {
    "name": "ipython",
    "version": 3
   },
   "file_extension": ".py",
   "mimetype": "text/x-python",
   "name": "python",
   "nbconvert_exporter": "python",
   "pygments_lexer": "ipython3",
   "version": "3.8.3"
  }
 },
 "nbformat": 4,
 "nbformat_minor": 4
}
